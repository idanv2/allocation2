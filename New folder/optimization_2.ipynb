{
 "cells": [
  {
   "cell_type": "code",
   "execution_count": 33,
   "id": "5e458351",
   "metadata": {},
   "outputs": [],
   "source": [
    "import sympy as sym\n",
    "import matplotlib.pyplot as plt\n",
    "import numpy as np\n",
    "from scipy.optimize import fsolve\n",
    "from scipy.optimize import minimize\n",
    "%matplotlib inline\n",
    "from scipy.integrate import odeint, solve_ivp\n",
    "import pandas as pd\n",
    "import numpy as np\n",
    "\n",
    "N_pop=331002647\n",
    "\n",
    "C=pd.read_excel(r\".\\contact\\usaM.xlsx\")\n",
    "D=C.to_numpy()\n",
    "C=pd.read_excel(r\".\\contact\\agdist.xlsx\")\n",
    "N=C.to_numpy()\n",
    "N_total=N_pop*N\n",
    "\n",
    "D=np.array([[1,1],[3,3]]).reshape(2,2)\n",
    "N=np.array([0.6,0.4]).reshape(2,1)\n",
    "\n",
    "gamma=1.\n",
    "\n",
    "epsilon=0.1\n",
    "k=len(N)\n",
    "v=0.3\n",
    "i0=np.zeros((k,1))+0.0001\n",
    "v0=np.zeros((k,1))+v/k\n",
    "nt=600\n",
    "t_span=np.array([0,10])\n",
    "times=np.linspace(t_span[0],t_span[1],2000)\n",
    "FIG=0\n",
    "\n",
    "\n",
    "def deriv( t,y,  beta, gamma,epsilon,D):\n",
    "    #print(beta)\n",
    "    S=(np.array(y[0:k])).reshape(k,1)\n",
    "    V=(np.array(y[k:2*k])).reshape(k,1)\n",
    "    I=(np.array(y[2*k:3*k])).reshape(k,1)\n",
    "    dSdt = -beta*S* D.dot(I) \n",
    "    dVdt = -epsilon*V*beta*D.dot(I)\n",
    "    dIdt = beta*(S+epsilon*V)*D.dot(I) - gamma * I\n",
    "    x=np.vstack((dSdt,dVdt,dIdt))\n",
    "    x=[item for sublist in x for item in sublist]\n",
    "    return x\n",
    "def func(v,beta, gamma,epsilon,D):\n",
    "    v0=np.array(v).reshape(k,1)\n",
    "    s0=N-i0-v0\n",
    "    y0 =np.vstack((s0,v0,i0))\n",
    "    y0 = [item for sublist in y0 for item in sublist]\n",
    "    ret = solve_ivp(deriv, t_span, y0,t_eval=times,args=[beta,gamma,epsilon,D],rtol = 1e-9, atol = 1e-9)   \n",
    "    #print(ret.y.shape)\n",
    "    #Imax=max((sum(ret.y.T[2*k:3*k,:])).reshape(nt,1))\n",
    "    ind=np.argmax(sum(ret.y[2*k:3*k,:]))\n",
    "    S=(ret.y[0:k,ind]).reshape(k,1)\n",
    "    V=ret.y[k:2*k,ind].reshape(k,1)\n",
    "    I=ret.y[2*k:3*k,ind].reshape(k,1)\n",
    "    loss=gamma/beta-(D[:,1].reshape(1,2)).dot(S+epsilon*V)\n",
    "    print(loss)\n",
    "    if FIG:\n",
    "       fig = plt.figure(facecolor='w')\n",
    "       ax = fig.add_subplot(111, facecolor='#dddddd', axisbelow=True)\n",
    "       ax.plot(times, sum(ret.y[2*k:3*k,:]), 'r', alpha=0.9, lw=2, label='Infected')\n",
    "       plt.scatter(times[ind], sum(I),color='b')\n",
    "    x=max(sum(ret.y[2*k:3*k,:]))\n",
    "    #print(Imax)\n",
    "    return x\n",
    "#ret.y\n",
    "def constraint1(x):\n",
    "    return sum(x)-v\n",
    "bnds=[]\n",
    "for i in range(k):\n",
    "   bnds.append(tuple([0,v-i0[i]]))\n",
    "\n",
    "con1={'type':'eq','fun':constraint1}\n",
    "cons=[con1]\n",
    "\n",
    "#x=np.arange(8,9)\n",
    "\n",
    "    #print(beta)\n",
    "\n",
    "#A=np.array(B).reshape(k,len(x))\n",
    "#for j in range(k):\n",
    "#    fig = plt.figure(facecolor='w')\n",
    "#    ax = fig.add_subplot(111, facecolor='#dddddd', axisbelow=True)\n",
    "#    ax.plot(x, A[j,:], 'r', alpha=0.9, lw=2, label='Infected')\n",
    "\n",
    "\n",
    "    \n",
    "\n",
    "    \n"
   ]
  },
  {
   "cell_type": "code",
   "execution_count": 32,
   "id": "2b474d25",
   "metadata": {},
   "outputs": [
    {
     "data": {
      "text/plain": [
       "array([[1],\n",
       "       [3]])"
      ]
     },
     "execution_count": 32,
     "metadata": {},
     "output_type": "execute_result"
    }
   ],
   "source": [
    "D[:,1].reshape(2,1)\n"
   ]
  },
  {
   "cell_type": "code",
   "execution_count": 34,
   "id": "a1cc8d41",
   "metadata": {},
   "outputs": [
    {
     "name": "stdout",
     "output_type": "stream",
     "text": [
      "[[0.0008446]]\n",
      "[[0.0008446]]\n",
      "[[0.00084458]]\n",
      "[[-0.00057283]]\n",
      "[[-0.00057283]]\n",
      "[[-0.00057285]]\n",
      "[[-0.00011748]]\n",
      "[[-0.00082775]]\n",
      "[[-0.00082776]]\n",
      "[[-0.00082777]]\n",
      "[[-0.0006588]]\n",
      "[[0.00065419]]\n",
      "[[-0.00068166]]\n",
      "[[0.00028674]]\n",
      "[[0.0007932]]\n",
      "[[0.00093525]]\n",
      "[[0.00093524]]\n",
      "[[0.00093523]]\n",
      "[[-0.00088494]]\n",
      "[[-0.00093089]]\n",
      "[[-0.00094222]]\n",
      "[[-0.00094223]]\n",
      "[[-0.00094225]]\n",
      "[[0.0009378]]\n",
      "[[0.00093779]]\n",
      "[[0.00093778]]\n",
      "[[-0.00094357]]\n",
      "[[-0.00094358]]\n",
      "[[-0.0009436]]\n",
      "[[0.00093844]]\n",
      "[[0.00093882]]\n",
      "[[0.00093881]]\n",
      "[[0.0009388]]\n"
     ]
    },
    {
     "data": {
      "text/plain": [
       "[array([0.11294582, 0.18705418])]"
      ]
     },
     "execution_count": 34,
     "metadata": {},
     "output_type": "execute_result"
    }
   ],
   "source": [
    "x=[6.]\n",
    "B=[]\n",
    "for beta in x:\n",
    "    sol=minimize(func,v0,args=(beta,gamma,epsilon,D),method='SLSQP',bounds=bnds,constraints=cons,tol=1e-9)\n",
    "    B.append(sol.x)\n",
    "B"
   ]
  },
  {
   "cell_type": "code",
   "execution_count": 430,
   "id": "aeb4f3dc",
   "metadata": {},
   "outputs": [
    {
     "data": {
      "text/plain": [
       "-0.032845900607062495"
      ]
     },
     "execution_count": 430,
     "metadata": {},
     "output_type": "execute_result"
    }
   ],
   "source": [
    "beta=9.3\n",
    "sol=minimize(func,v0,args=(beta,gamma,epsilon,D),method='SLSQP',bounds=bnds,constraints=cons,tol=1e-9)\n",
    "func(sol.x,beta, gamma,epsilon,D)-func([0.,v],beta, gamma,epsilon,D)\n",
    "#func([,v],beta, gamma,epsilon,D)\n"
   ]
  },
  {
   "cell_type": "code",
   "execution_count": 455,
   "id": "9d503252",
   "metadata": {},
   "outputs": [
    {
     "data": {
      "text/plain": [
       "array([0.88526128])"
      ]
     },
     "execution_count": 455,
     "metadata": {},
     "output_type": "execute_result"
    }
   ],
   "source": [
    "vt=B[0].reshape(2,1)\n",
    "s0=N-i0-vt\n",
    "gamma/(s0[0]+epsilon*vt[0]+2*(s0[1]+epsilon*vt[1]))"
   ]
  }
 ],
 "metadata": {
  "kernelspec": {
   "display_name": "Python 3 (ipykernel)",
   "language": "python",
   "name": "python3"
  },
  "language_info": {
   "codemirror_mode": {
    "name": "ipython",
    "version": 3
   },
   "file_extension": ".py",
   "mimetype": "text/x-python",
   "name": "python",
   "nbconvert_exporter": "python",
   "pygments_lexer": "ipython3",
   "version": "3.9.7"
  }
 },
 "nbformat": 4,
 "nbformat_minor": 5
}
