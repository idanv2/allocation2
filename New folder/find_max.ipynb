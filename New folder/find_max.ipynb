{
 "cells": [
  {
   "cell_type": "code",
   "execution_count": 95,
   "id": "65513ffc",
   "metadata": {},
   "outputs": [
    {
     "name": "stdout",
     "output_type": "stream",
     "text": [
      "(2, 1)\n"
     ]
    },
    {
     "data": {
      "text/plain": [
       "[array([-0.00288957])]"
      ]
     },
     "execution_count": 95,
     "metadata": {},
     "output_type": "execute_result"
    },
    {
     "data": {
      "image/png": "[encoded data removed]",
      "text/plain": [
       "<Figure size 432x288 with 1 Axes>"
      ]
     },
     "metadata": {},
     "output_type": "display_data"
    }
   ],
   "source": [
    "from scipy.optimize import minimize\n",
    "%matplotlib inline\n",
    "from scipy.integrate import odeint, solve_ivp\n",
    "import pandas as pd\n",
    "import numpy as np\n",
    "\n",
    "N_pop=331002647\n",
    "\n",
    "C=pd.read_excel(r\".\\contact\\usaM.xlsx\")\n",
    "D=C.to_numpy()\n",
    "C=pd.read_excel(r\".\\contact\\agdist.xlsx\")\n",
    "N=C.to_numpy()\n",
    "N_total=N_pop*N\n",
    "\n",
    "D=np.array([[1,1],[2,2]]).reshape(2,2)\n",
    "N=np.array([0.6,0.4]).reshape(2,1)\n",
    "\n",
    "gamma=1.\n",
    "beta=10.\n",
    "epsilon=0.1\n",
    "k=len(N)\n",
    "v=0.1\n",
    "i0=np.zeros((k,1))+0.0001\n",
    "v0=np.zeros((k,1))\n",
    "#nt=600\n",
    "t_span=np.array([0,10])\n",
    "times=np.linspace(t_span[0],t_span[1],7200)\n",
    "\n",
    "\n",
    "\n",
    "def deriv( t,y,  beta, gamma,epsilon,D):\n",
    "    #print(beta)\n",
    "    S=(np.array(y[0:k])).reshape(k,1)\n",
    "    V=(np.array(y[k:2*k])).reshape(k,1)\n",
    "    I=(np.array(y[2*k:3*k])).reshape(k,1)\n",
    "    dSdt = -beta*S* D.dot(I) \n",
    "    dVdt = -epsilon*V*beta*D.dot(I)\n",
    "    dIdt = beta*(S+epsilon*V)*D.dot(I) - gamma * I\n",
    "    x=np.vstack((dSdt,dVdt,dIdt))\n",
    "    x=[item for sublist in x for item in sublist]\n",
    "    return x\n",
    "def func(v,beta, gamma,epsilon,D):\n",
    "    v0=np.array(v).reshape(k,1)\n",
    "    s0=N-i0-v0\n",
    "    y0 =np.vstack((s0,v0,i0))\n",
    "    y0 = [item for sublist in y0 for item in sublist]\n",
    "    ret = solve_ivp(deriv, t_span, y0,t_eval=times,args=[beta,gamma,epsilon,D],rtol = 1e-10, atol = 1e-10)   \n",
    "    #print(ret.y.shape)\n",
    "    #Imax=max((sum(ret.y.T[2*k:3*k,:])).reshape(nt,1))\n",
    "    ind=np.argmax(sum(ret.y[2*k:3*k,:]))\n",
    "    S=(ret.y[0:k,ind]).reshape(k,1)\n",
    "    V=ret.y[k:2*k,ind].reshape(k,1)\n",
    "    I=ret.y[2*k:3*k,ind].reshape(k,1)\n",
    "    print(V.shape)\n",
    "    loss=sum(beta*(S+epsilon*V)*D.dot(I) - gamma * I)\n",
    "    fig = plt.figure(facecolor='w')\n",
    "    ax = fig.add_subplot(111, facecolor='#dddddd', axisbelow=True)\n",
    "    ax.plot(times, sum(ret.y[2*k:3*k,:]), 'r', alpha=0.9, lw=2, label='Infected')\n",
    "    plt.scatter(times[ind], sum(I),color='b')\n",
    "    #plt.scatter(times[ind-1], sum(ret.y[2*k:3*k,ind-1]),color='b')\n",
    "    return [loss]\n",
    "func(v0*0.5,beta,gamma,epsilon,D)"
   ]
  },
  {
   "cell_type": "code",
   "execution_count": null,
   "id": "cc92521c",
   "metadata": {},
   "outputs": [],
   "source": []
  }
 ],
 "metadata": {
  "kernelspec": {
   "display_name": "Python 3 (ipykernel)",
   "language": "python",
   "name": "python3"
  },
  "language_info": {
   "codemirror_mode": {
    "name": "ipython",
    "version": 3
   },
   "file_extension": ".py",
   "mimetype": "text/x-python",
   "name": "python",
   "nbconvert_exporter": "python",
   "pygments_lexer": "ipython3",
   "version": "3.9.7"
  }
 },
 "nbformat": 4,
 "nbformat_minor": 5
}
